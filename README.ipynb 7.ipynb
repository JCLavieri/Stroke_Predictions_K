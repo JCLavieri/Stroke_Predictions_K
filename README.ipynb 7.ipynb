{
 "cells": [
  {
   "cell_type": "markdown",
   "metadata": {},
   "source": [
    "# Stroke Prediction Model\n",
    "\n",
    "## Table of Contents\n",
    "- [Overview](#overview)\n",
    "- [Dataset](#dataset)\n",
    "- [Preprocessing](#preprocessing)\n",
    "- [Feature Engineering](#feature-engineering)\n",
    "- [Model Training](#model-training)\n",
    "- [Hyperparameter Tuning](#hyperparameter-tuning)\n",
    "- [Evaluation](#evaluation)\n",
    "- [Best Model Results](#best-model-results)\n",
    "- [Installation](#installation)\n",
    "- [Usage](#usage)\n",
    "\n",
    "## Overview\n",
    "\n",
    "This project develops a machine learning model to predict the likelihood of stroke events. Utilizing a dataset of patient records, the model is trained to recognize patterns and features associated with stroke incidents. Our primary goal is to achieve high recall to ensure maximum identification of true positive stroke cases.\n",
    "\n",
    "## Dataset\n",
    "\n",
    "The dataset comprises several features, including age, hypertension, heart disease, average glucose level, and Body Mass Index (BMI), along with a target label that indicates the occurrence of a stroke.\n",
    "\n",
    "## Preprocessing\n",
    "\n",
    "Data preprocessing steps include:\n",
    "\n",
    "- Handling missing values.\n",
    "- Encoding categorical variables.\n",
    "- Scaling numerical features.\n",
    "- Advanced feature engineering to enhance model performance.\n",
    "\n",
    "## Feature Engineering\n",
    "\n",
    "We generate polynomial features and interaction terms to unearth non-linear relationships and intricate interactions among features, aiming to bolster the predictive power of our model.\n",
    "\n",
    "## Model Training\n",
    "\n",
    "For the classification task, we employ a Random Forest classifier known for its robustness and efficacy in handling imbalanced datasets. The model training is performed on a balanced dataset achieved via oversampling techniques, specifically SMOTE.\n",
    "\n",
    "## Hyperparameter Tuning\n",
    "\n",
    "Hyperparameter optimization is conducted using GridSearchCV. This involves a comprehensive search across a range of parameter combinations, leveraging cross-validation to ascertain the most effective model configuration.\n",
    "\n",
    "## Evaluation\n",
    "\n",
    "The model's performance is meticulously evaluated using a confusion matrix. Emphasis is placed on recall to minimize false negatives. We also measure precision, F1 score, and accuracy to gain a holistic view of the model's predictive capacity.\n",
    "\n",
    "## Best Model Results\n",
    "\n",
    "The optimal model configuration achieved a recall score of approximately 63.48%, marking a substantial improvement in the identification of actual stroke cases.\n",
    "\n",
    "## Installation\n",
    "\n",
    "To set up the project environment and install the required dependencies, follow these instructions:\n",
    "\n",
    "```bash\n",
    "pip install -r requirements.txt\n"
   ]
  },
  {
   "cell_type": "code",
   "execution_count": null,
   "metadata": {},
   "outputs": [],
   "source": [
    "## Usage    \n",
    "\n",
    "python train_model.py"
   ]
  },
  {
   "cell_type": "markdown",
   "metadata": {},
   "source": [
    "\n",
    "### Improvements Made:\n",
    "\n",
    "1. **Table of Contents**: Added for easy navigation.\n",
    "2. **Headings**: Clearly defined sections with appropriate headings.\n",
    "3. **Code Blocks**: Correctly formatted for installation and usage commands.\n",
    "4. **Consistent Formatting**: Ensured consistent use of bullet points and spacing for readability.\n",
    "\n"
   ]
  }
 ],
 "metadata": {
  "language_info": {
   "name": "python"
  }
 },
 "nbformat": 4,
 "nbformat_minor": 2
}
